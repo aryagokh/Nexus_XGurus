{
 "cells": [
  {
   "cell_type": "code",
   "execution_count": 1,
   "id": "0f80efb6",
   "metadata": {
    "_cell_guid": "b1076dfc-b9ad-4769-8c92-a6c4dae69d19",
    "_uuid": "8f2839f25d086af736a60e9eeb907d3b93b6e0e5",
    "execution": {
     "iopub.execute_input": "2024-09-28T12:21:31.751659Z",
     "iopub.status.busy": "2024-09-28T12:21:31.751116Z",
     "iopub.status.idle": "2024-09-28T12:21:32.718891Z",
     "shell.execute_reply": "2024-09-28T12:21:32.717602Z"
    },
    "papermill": {
     "duration": 0.975209,
     "end_time": "2024-09-28T12:21:32.721510",
     "exception": false,
     "start_time": "2024-09-28T12:21:31.746301",
     "status": "completed"
    },
    "tags": []
   },
   "outputs": [
    {
     "name": "stdout",
     "output_type": "stream",
     "text": [
      "/kaggle/input/nexus-by-djs-nsdc-ultraceuticals/sample_submission.csv\n",
      "/kaggle/input/nexus-by-djs-nsdc-ultraceuticals/train.csv\n",
      "/kaggle/input/nexus-by-djs-nsdc-ultraceuticals/test.csv\n",
      "/kaggle/input/top5xgurus-nexus/StackingSubmission1_cv3_0.9939.csv\n",
      "/kaggle/input/top5xgurus-nexus/StackingSubmission1_0.9934138.csv\n",
      "/kaggle/input/top5xgurus-nexus/StackingSubmission3_cv2_0.9931117.csv\n",
      "/kaggle/input/top5xgurus-nexus/CatBoost_model_2_0.9929786.csv\n",
      "/kaggle/input/top5xgurus-nexus/StackingSubmission2_cv3_0.9933.csv\n"
     ]
    }
   ],
   "source": [
    "import os\n",
    "import pandas as pd\n",
    "for dirname, _, filenames in os.walk('/kaggle/input'):\n",
    "    for filename in filenames:\n",
    "        print(os.path.join(dirname, filename))"
   ]
  },
  {
   "cell_type": "code",
   "execution_count": 2,
   "id": "f8c2ffcd",
   "metadata": {
    "execution": {
     "iopub.execute_input": "2024-09-28T12:21:32.728669Z",
     "iopub.status.busy": "2024-09-28T12:21:32.728102Z",
     "iopub.status.idle": "2024-09-28T12:21:32.945998Z",
     "shell.execute_reply": "2024-09-28T12:21:32.944668Z"
    },
    "papermill": {
     "duration": 0.224512,
     "end_time": "2024-09-28T12:21:32.948801",
     "exception": false,
     "start_time": "2024-09-28T12:21:32.724289",
     "status": "completed"
    },
    "tags": []
   },
   "outputs": [],
   "source": [
    "one = pd.read_csv('/kaggle/input/top5xgurus-nexus/StackingSubmission1_cv3_0.9939.csv')\n",
    "two = pd.read_csv('/kaggle/input/top5xgurus-nexus/StackingSubmission1_0.9934138.csv')\n",
    "three = pd.read_csv('/kaggle/input/top5xgurus-nexus/StackingSubmission2_cv3_0.9933.csv')\n",
    "four = pd.read_csv('/kaggle/input/top5xgurus-nexus/StackingSubmission3_cv2_0.9931117.csv')\n",
    "five = pd.read_csv('/kaggle/input/top5xgurus-nexus/CatBoost_model_2_0.9929786.csv')"
   ]
  },
  {
   "cell_type": "code",
   "execution_count": 3,
   "id": "b9ad803d",
   "metadata": {
    "execution": {
     "iopub.execute_input": "2024-09-28T12:21:32.955653Z",
     "iopub.status.busy": "2024-09-28T12:21:32.955201Z",
     "iopub.status.idle": "2024-09-28T12:21:50.832705Z",
     "shell.execute_reply": "2024-09-28T12:21:50.831293Z"
    },
    "papermill": {
     "duration": 17.884887,
     "end_time": "2024-09-28T12:21:50.836261",
     "exception": false,
     "start_time": "2024-09-28T12:21:32.951374",
     "status": "completed"
    },
    "tags": []
   },
   "outputs": [
    {
     "data": {
      "text/html": [
       "<div>\n",
       "<style scoped>\n",
       "    .dataframe tbody tr th:only-of-type {\n",
       "        vertical-align: middle;\n",
       "    }\n",
       "\n",
       "    .dataframe tbody tr th {\n",
       "        vertical-align: top;\n",
       "    }\n",
       "\n",
       "    .dataframe thead th {\n",
       "        text-align: right;\n",
       "    }\n",
       "</style>\n",
       "<table border=\"1\" class=\"dataframe\">\n",
       "  <thead>\n",
       "    <tr style=\"text-align: right;\">\n",
       "      <th></th>\n",
       "      <th>ID</th>\n",
       "      <th>one</th>\n",
       "      <th>two</th>\n",
       "      <th>three</th>\n",
       "      <th>four</th>\n",
       "      <th>five</th>\n",
       "      <th>Prediction</th>\n",
       "    </tr>\n",
       "  </thead>\n",
       "  <tbody>\n",
       "    <tr>\n",
       "      <th>0</th>\n",
       "      <td>1076</td>\n",
       "      <td>Approved</td>\n",
       "      <td>Approved</td>\n",
       "      <td>Approved</td>\n",
       "      <td>Approved</td>\n",
       "      <td>Approved</td>\n",
       "      <td>Approved</td>\n",
       "    </tr>\n",
       "    <tr>\n",
       "      <th>1</th>\n",
       "      <td>190816</td>\n",
       "      <td>Phase 3</td>\n",
       "      <td>Phase 3</td>\n",
       "      <td>Phase 3</td>\n",
       "      <td>Phase 3</td>\n",
       "      <td>Phase 3</td>\n",
       "      <td>Phase 3</td>\n",
       "    </tr>\n",
       "    <tr>\n",
       "      <th>2</th>\n",
       "      <td>180551</td>\n",
       "      <td>Phase 3</td>\n",
       "      <td>Phase 3</td>\n",
       "      <td>Phase 3</td>\n",
       "      <td>Phase 3</td>\n",
       "      <td>Phase 3</td>\n",
       "      <td>Phase 3</td>\n",
       "    </tr>\n",
       "    <tr>\n",
       "      <th>3</th>\n",
       "      <td>51630</td>\n",
       "      <td>Approved</td>\n",
       "      <td>Approved</td>\n",
       "      <td>Approved</td>\n",
       "      <td>Approved</td>\n",
       "      <td>Approved</td>\n",
       "      <td>Approved</td>\n",
       "    </tr>\n",
       "    <tr>\n",
       "      <th>4</th>\n",
       "      <td>50566</td>\n",
       "      <td>Phase 1/2</td>\n",
       "      <td>Phase 1/2</td>\n",
       "      <td>Phase 1/2</td>\n",
       "      <td>Phase 1/2</td>\n",
       "      <td>Phase 1/2</td>\n",
       "      <td>Phase 1/2</td>\n",
       "    </tr>\n",
       "  </tbody>\n",
       "</table>\n",
       "</div>"
      ],
      "text/plain": [
       "       ID        one        two      three       four       five Prediction\n",
       "0    1076   Approved   Approved   Approved   Approved   Approved   Approved\n",
       "1  190816    Phase 3    Phase 3    Phase 3    Phase 3    Phase 3    Phase 3\n",
       "2  180551    Phase 3    Phase 3    Phase 3    Phase 3    Phase 3    Phase 3\n",
       "3   51630   Approved   Approved   Approved   Approved   Approved   Approved\n",
       "4   50566  Phase 1/2  Phase 1/2  Phase 1/2  Phase 1/2  Phase 1/2  Phase 1/2"
      ]
     },
     "execution_count": 3,
     "metadata": {},
     "output_type": "execute_result"
    }
   ],
   "source": [
    "df = pd.DataFrame(one['ID'])\n",
    "df['one'] = one['Prediction']\n",
    "df['two'] = two['Prediction']\n",
    "df['three'] = three['Prediction']\n",
    "df['four'] = four['Prediction']\n",
    "df['five'] = five['Prediction']\n",
    "df['Prediction'] = df[['one', 'two', 'three', 'four', 'five']].mode(axis=1)[0]\n",
    "df.head()"
   ]
  },
  {
   "cell_type": "code",
   "execution_count": 4,
   "id": "b128f83e",
   "metadata": {
    "execution": {
     "iopub.execute_input": "2024-09-28T12:21:50.843853Z",
     "iopub.status.busy": "2024-09-28T12:21:50.843399Z",
     "iopub.status.idle": "2024-09-28T12:21:50.935422Z",
     "shell.execute_reply": "2024-09-28T12:21:50.933712Z"
    },
    "papermill": {
     "duration": 0.099302,
     "end_time": "2024-09-28T12:21:50.938569",
     "exception": false,
     "start_time": "2024-09-28T12:21:50.839267",
     "status": "completed"
    },
    "tags": []
   },
   "outputs": [
    {
     "data": {
      "text/html": [
       "<div>\n",
       "<style scoped>\n",
       "    .dataframe tbody tr th:only-of-type {\n",
       "        vertical-align: middle;\n",
       "    }\n",
       "\n",
       "    .dataframe tbody tr th {\n",
       "        vertical-align: top;\n",
       "    }\n",
       "\n",
       "    .dataframe thead th {\n",
       "        text-align: right;\n",
       "    }\n",
       "</style>\n",
       "<table border=\"1\" class=\"dataframe\">\n",
       "  <thead>\n",
       "    <tr style=\"text-align: right;\">\n",
       "      <th></th>\n",
       "      <th>ID</th>\n",
       "      <th>Prediction</th>\n",
       "    </tr>\n",
       "  </thead>\n",
       "  <tbody>\n",
       "    <tr>\n",
       "      <th>0</th>\n",
       "      <td>1076</td>\n",
       "      <td>Approved</td>\n",
       "    </tr>\n",
       "    <tr>\n",
       "      <th>1</th>\n",
       "      <td>190816</td>\n",
       "      <td>Phase 3</td>\n",
       "    </tr>\n",
       "    <tr>\n",
       "      <th>2</th>\n",
       "      <td>180551</td>\n",
       "      <td>Phase 3</td>\n",
       "    </tr>\n",
       "    <tr>\n",
       "      <th>3</th>\n",
       "      <td>51630</td>\n",
       "      <td>Approved</td>\n",
       "    </tr>\n",
       "    <tr>\n",
       "      <th>4</th>\n",
       "      <td>50566</td>\n",
       "      <td>Phase 1/2</td>\n",
       "    </tr>\n",
       "  </tbody>\n",
       "</table>\n",
       "</div>"
      ],
      "text/plain": [
       "       ID Prediction\n",
       "0    1076   Approved\n",
       "1  190816    Phase 3\n",
       "2  180551    Phase 3\n",
       "3   51630   Approved\n",
       "4   50566  Phase 1/2"
      ]
     },
     "execution_count": 4,
     "metadata": {},
     "output_type": "execute_result"
    }
   ],
   "source": [
    "sub = pd.DataFrame(df['ID'])\n",
    "sub['Prediction'] = df['Prediction']\n",
    "sub.to_csv('top_5_mode_nexus.csv', index=False)\n",
    "sub.head()"
   ]
  },
  {
   "cell_type": "code",
   "execution_count": null,
   "id": "eb6e2d35",
   "metadata": {
    "papermill": {
     "duration": 0.003275,
     "end_time": "2024-09-28T12:21:50.944879",
     "exception": false,
     "start_time": "2024-09-28T12:21:50.941604",
     "status": "completed"
    },
    "tags": []
   },
   "outputs": [],
   "source": []
  }
 ],
 "metadata": {
  "kaggle": {
   "accelerator": "none",
   "dataSources": [
    {
     "databundleVersionId": 9691631,
     "sourceId": 85725,
     "sourceType": "competition"
    },
    {
     "datasetId": 5782352,
     "sourceId": 9501262,
     "sourceType": "datasetVersion"
    }
   ],
   "dockerImageVersionId": 30775,
   "isGpuEnabled": false,
   "isInternetEnabled": true,
   "language": "python",
   "sourceType": "notebook"
  },
  "kernelspec": {
   "display_name": "Python 3",
   "language": "python",
   "name": "python3"
  },
  "language_info": {
   "codemirror_mode": {
    "name": "ipython",
    "version": 3
   },
   "file_extension": ".py",
   "mimetype": "text/x-python",
   "name": "python",
   "nbconvert_exporter": "python",
   "pygments_lexer": "ipython3",
   "version": "3.10.14"
  },
  "papermill": {
   "default_parameters": {},
   "duration": 22.693912,
   "end_time": "2024-09-28T12:21:51.472696",
   "environment_variables": {},
   "exception": null,
   "input_path": "__notebook__.ipynb",
   "output_path": "__notebook__.ipynb",
   "parameters": {},
   "start_time": "2024-09-28T12:21:28.778784",
   "version": "2.6.0"
  }
 },
 "nbformat": 4,
 "nbformat_minor": 5
}
